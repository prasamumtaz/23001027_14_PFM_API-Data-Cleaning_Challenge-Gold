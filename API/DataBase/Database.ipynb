{
 "cells": [
  {
   "cell_type": "markdown",
   "id": "9d928c86-6a46-4655-a92e-126e0cc244ab",
   "metadata": {},
   "source": [
    "# DATABASE"
   ]
  },
  {
   "cell_type": "code",
   "execution_count": 1,
   "id": "d790536e-e559-42f4-87a5-8dbb4ba11965",
   "metadata": {},
   "outputs": [
    {
     "data": {
      "text/plain": [
       "'E:\\\\BINAR\\\\Binar-Gold-Challenge\\\\API\\\\DataBase'"
      ]
     },
     "execution_count": 1,
     "metadata": {},
     "output_type": "execute_result"
    }
   ],
   "source": [
    "pwd"
   ]
  },
  {
   "cell_type": "code",
   "execution_count": 2,
   "id": "39fed40d-32d1-4772-af3b-316da6a19ebf",
   "metadata": {},
   "outputs": [],
   "source": [
    "import sqlite3"
   ]
  },
  {
   "cell_type": "markdown",
   "id": "7d95b249-1520-4c67-952d-03e6974be2e2",
   "metadata": {},
   "source": [
    "## Connect to database"
   ]
  },
  {
   "cell_type": "code",
   "execution_count": 3,
   "id": "842fb5b5-9e10-4c67-8d29-70419ad60a66",
   "metadata": {},
   "outputs": [
    {
     "name": "stdout",
     "output_type": "stream",
     "text": [
      "Opened database successfully\n"
     ]
    }
   ],
   "source": [
    "conn = sqlite3.connect(\"Database_processing.db\")\n",
    "print(\"Opened database successfully\")"
   ]
  },
  {
   "cell_type": "markdown",
   "id": "49bbc99e-7979-436e-95a8-dbb04d1ece33",
   "metadata": {},
   "source": [
    "## Create Table"
   ]
  },
  {
   "cell_type": "markdown",
   "id": "15c6a3aa-99c8-4963-90d3-c26ac0646bfd",
   "metadata": {},
   "source": [
    "### input_text Table"
   ]
  },
  {
   "cell_type": "code",
   "execution_count": 4,
   "id": "f7a1fc41-7f88-49c6-bd9b-1faa682fdab3",
   "metadata": {},
   "outputs": [
    {
     "name": "stdout",
     "output_type": "stream",
     "text": [
      "Table created successfully\n"
     ]
    }
   ],
   "source": [
    "conn.execute( '''\n",
    "    CREATE TABLE input_text (\n",
    "        text VARCHAR(300)\n",
    "        );\n",
    "    ''')\n",
    "\n",
    "print(\"Table created successfully\")"
   ]
  },
  {
   "cell_type": "code",
   "execution_count": 5,
   "id": "90ea8877-9ba7-4b1f-b3a1-23f6305929eb",
   "metadata": {},
   "outputs": [
    {
     "name": "stdout",
     "output_type": "stream",
     "text": [
      "Table created successfully\n"
     ]
    }
   ],
   "source": [
    "conn.execute( '''\n",
    "    CREATE TABLE output_text (\n",
    "        text VARCHAR(300)\n",
    "        );\n",
    "    ''')\n",
    "\n",
    "print(\"Table created successfully\")"
   ]
  },
  {
   "cell_type": "code",
   "execution_count": 6,
   "id": "eaacde5a-2d84-41f6-ad4d-b47603199e3a",
   "metadata": {},
   "outputs": [
    {
     "name": "stdout",
     "output_type": "stream",
     "text": [
      "Table created successfully\n"
     ]
    }
   ],
   "source": [
    "conn.execute( '''\n",
    "    CREATE TABLE input_Tweet (\n",
    "        Tweet VARCHAR(300)\n",
    "        );\n",
    "    ''')\n",
    "\n",
    "print(\"Table created successfully\")"
   ]
  },
  {
   "cell_type": "code",
   "execution_count": 7,
   "id": "6137ef77-4c9a-49ff-8975-b19dfce67911",
   "metadata": {},
   "outputs": [
    {
     "name": "stdout",
     "output_type": "stream",
     "text": [
      "Table created successfully\n"
     ]
    }
   ],
   "source": [
    "conn.execute( '''\n",
    "    CREATE TABLE clean_Tweet (\n",
    "        Tweet VARCHAR(300)\n",
    "        );\n",
    "    ''')\n",
    "\n",
    "print(\"Table created successfully\")"
   ]
  },
  {
   "cell_type": "code",
   "execution_count": 35,
   "id": "5f1fa03f-5265-47e3-a732-a479a46833a2",
   "metadata": {},
   "outputs": [],
   "source": [
    "conn.close()"
   ]
  },
  {
   "cell_type": "markdown",
   "id": "c820315a-892b-450b-b367-112910a58434",
   "metadata": {},
   "source": [
    "## SHOW VALUES in TABLES"
   ]
  },
  {
   "cell_type": "code",
   "execution_count": 10,
   "id": "bd85ba69-4e30-4114-a397-478943d41eab",
   "metadata": {},
   "outputs": [],
   "source": [
    "import pandas as pd"
   ]
  },
  {
   "cell_type": "code",
   "execution_count": null,
   "id": "8c9d652e-b24d-4c85-b227-f1a2a29dff5a",
   "metadata": {},
   "outputs": [],
   "source": [
    "conn = sqlite3.connect(\"Database_processing.db\")"
   ]
  },
  {
   "cell_type": "code",
   "execution_count": 17,
   "id": "1a0eed66-9186-4658-9e3d-b2d06cb63fd2",
   "metadata": {},
   "outputs": [
    {
     "data": {
      "text/html": [
       "<div>\n",
       "<style scoped>\n",
       "    .dataframe tbody tr th:only-of-type {\n",
       "        vertical-align: middle;\n",
       "    }\n",
       "\n",
       "    .dataframe tbody tr th {\n",
       "        vertical-align: top;\n",
       "    }\n",
       "\n",
       "    .dataframe thead th {\n",
       "        text-align: right;\n",
       "    }\n",
       "</style>\n",
       "<table border=\"1\" class=\"dataframe\">\n",
       "  <thead>\n",
       "    <tr style=\"text-align: right;\">\n",
       "      <th></th>\n",
       "      <th>text</th>\n",
       "    </tr>\n",
       "  </thead>\n",
       "  <tbody>\n",
       "    <tr>\n",
       "      <th>0</th>\n",
       "      <td>- disaat semua cowok berusaha melacak perhatia...</td>\n",
       "    </tr>\n",
       "    <tr>\n",
       "      <th>1</th>\n",
       "      <td>RT USER: USER siapa yang telat ngasih tau elu?...</td>\n",
       "    </tr>\n",
       "  </tbody>\n",
       "</table>\n",
       "</div>"
      ],
      "text/plain": [
       "                                                text\n",
       "0  - disaat semua cowok berusaha melacak perhatia...\n",
       "1  RT USER: USER siapa yang telat ngasih tau elu?..."
      ]
     },
     "execution_count": 17,
     "metadata": {},
     "output_type": "execute_result"
    }
   ],
   "source": [
    "df_input_text = pd.read_sql_query('SELECT * FROM input_text', conn)\n",
    "df_input_text"
   ]
  },
  {
   "cell_type": "code",
   "execution_count": 18,
   "id": "4b742ca7-b1be-49ef-8d1a-273e93336649",
   "metadata": {},
   "outputs": [
    {
     "data": {
      "text/html": [
       "<div>\n",
       "<style scoped>\n",
       "    .dataframe tbody tr th:only-of-type {\n",
       "        vertical-align: middle;\n",
       "    }\n",
       "\n",
       "    .dataframe tbody tr th {\n",
       "        vertical-align: top;\n",
       "    }\n",
       "\n",
       "    .dataframe thead th {\n",
       "        text-align: right;\n",
       "    }\n",
       "</style>\n",
       "<table border=\"1\" class=\"dataframe\">\n",
       "  <thead>\n",
       "    <tr style=\"text-align: right;\">\n",
       "      <th></th>\n",
       "      <th>text</th>\n",
       "    </tr>\n",
       "  </thead>\n",
       "  <tbody>\n",
       "    <tr>\n",
       "      <th>0</th>\n",
       "      <td>disaat semua cowok berusaha melacak perhatian ...</td>\n",
       "    </tr>\n",
       "    <tr>\n",
       "      <th>1</th>\n",
       "      <td>siapa yang telat ngasih tau elu edan sarap gue...</td>\n",
       "    </tr>\n",
       "  </tbody>\n",
       "</table>\n",
       "</div>"
      ],
      "text/plain": [
       "                                                text\n",
       "0  disaat semua cowok berusaha melacak perhatian ...\n",
       "1  siapa yang telat ngasih tau elu edan sarap gue..."
      ]
     },
     "execution_count": 18,
     "metadata": {},
     "output_type": "execute_result"
    }
   ],
   "source": [
    "df_output_text = pd.read_sql_query('SELECT * FROM output_text', conn)\n",
    "df_output_text"
   ]
  },
  {
   "cell_type": "code",
   "execution_count": 19,
   "id": "783b4a76-8c5c-429c-bc1b-1073f46a45e6",
   "metadata": {},
   "outputs": [
    {
     "data": {
      "text/html": [
       "<div>\n",
       "<style scoped>\n",
       "    .dataframe tbody tr th:only-of-type {\n",
       "        vertical-align: middle;\n",
       "    }\n",
       "\n",
       "    .dataframe tbody tr th {\n",
       "        vertical-align: top;\n",
       "    }\n",
       "\n",
       "    .dataframe thead th {\n",
       "        text-align: right;\n",
       "    }\n",
       "</style>\n",
       "<table border=\"1\" class=\"dataframe\">\n",
       "  <thead>\n",
       "    <tr style=\"text-align: right;\">\n",
       "      <th></th>\n",
       "      <th>Tweet</th>\n",
       "    </tr>\n",
       "  </thead>\n",
       "  <tbody>\n",
       "    <tr>\n",
       "      <th>0</th>\n",
       "      <td>- disaat semua cowok berusaha melacak perhatia...</td>\n",
       "    </tr>\n",
       "    <tr>\n",
       "      <th>1</th>\n",
       "      <td>RT USER: USER siapa yang telat ngasih tau elu?...</td>\n",
       "    </tr>\n",
       "    <tr>\n",
       "      <th>2</th>\n",
       "      <td>41. Kadang aku berfikir, kenapa aku tetap perc...</td>\n",
       "    </tr>\n",
       "    <tr>\n",
       "      <th>3</th>\n",
       "      <td>USER USER AKU ITU AKU\\n\\nKU TAU MATAMU SIPIT T...</td>\n",
       "    </tr>\n",
       "    <tr>\n",
       "      <th>4</th>\n",
       "      <td>USER USER Kaum cebong kapir udah keliatan dong...</td>\n",
       "    </tr>\n",
       "    <tr>\n",
       "      <th>...</th>\n",
       "      <td>...</td>\n",
       "    </tr>\n",
       "    <tr>\n",
       "      <th>13164</th>\n",
       "      <td>USER jangan asal ngomong ndasmu. congor lu yg ...</td>\n",
       "    </tr>\n",
       "    <tr>\n",
       "      <th>13165</th>\n",
       "      <td>USER Kasur mana enak kunyuk'</td>\n",
       "    </tr>\n",
       "    <tr>\n",
       "      <th>13166</th>\n",
       "      <td>USER Hati hati bisu :( .g\\n\\nlagi bosan huft \\...</td>\n",
       "    </tr>\n",
       "    <tr>\n",
       "      <th>13167</th>\n",
       "      <td>USER USER USER USER Bom yang real mudah terdet...</td>\n",
       "    </tr>\n",
       "    <tr>\n",
       "      <th>13168</th>\n",
       "      <td>USER Mana situ ngasih(\": itu cuma foto ya kuti...</td>\n",
       "    </tr>\n",
       "  </tbody>\n",
       "</table>\n",
       "<p>13169 rows × 1 columns</p>\n",
       "</div>"
      ],
      "text/plain": [
       "                                                   Tweet\n",
       "0      - disaat semua cowok berusaha melacak perhatia...\n",
       "1      RT USER: USER siapa yang telat ngasih tau elu?...\n",
       "2      41. Kadang aku berfikir, kenapa aku tetap perc...\n",
       "3      USER USER AKU ITU AKU\\n\\nKU TAU MATAMU SIPIT T...\n",
       "4      USER USER Kaum cebong kapir udah keliatan dong...\n",
       "...                                                  ...\n",
       "13164  USER jangan asal ngomong ndasmu. congor lu yg ...\n",
       "13165                       USER Kasur mana enak kunyuk'\n",
       "13166  USER Hati hati bisu :( .g\\n\\nlagi bosan huft \\...\n",
       "13167  USER USER USER USER Bom yang real mudah terdet...\n",
       "13168  USER Mana situ ngasih(\": itu cuma foto ya kuti...\n",
       "\n",
       "[13169 rows x 1 columns]"
      ]
     },
     "execution_count": 19,
     "metadata": {},
     "output_type": "execute_result"
    }
   ],
   "source": [
    "df_input_Tweet = pd.read_sql_query('SELECT * FROM input_Tweet', conn)\n",
    "df_input_Tweet"
   ]
  },
  {
   "cell_type": "code",
   "execution_count": 16,
   "id": "fd068365-feab-4422-99df-9591f662b5d8",
   "metadata": {},
   "outputs": [
    {
     "data": {
      "text/html": [
       "<div>\n",
       "<style scoped>\n",
       "    .dataframe tbody tr th:only-of-type {\n",
       "        vertical-align: middle;\n",
       "    }\n",
       "\n",
       "    .dataframe tbody tr th {\n",
       "        vertical-align: top;\n",
       "    }\n",
       "\n",
       "    .dataframe thead th {\n",
       "        text-align: right;\n",
       "    }\n",
       "</style>\n",
       "<table border=\"1\" class=\"dataframe\">\n",
       "  <thead>\n",
       "    <tr style=\"text-align: right;\">\n",
       "      <th></th>\n",
       "      <th>Tweet</th>\n",
       "    </tr>\n",
       "  </thead>\n",
       "  <tbody>\n",
       "  </tbody>\n",
       "</table>\n",
       "</div>"
      ],
      "text/plain": [
       "Empty DataFrame\n",
       "Columns: [Tweet]\n",
       "Index: []"
      ]
     },
     "execution_count": 16,
     "metadata": {},
     "output_type": "execute_result"
    }
   ],
   "source": [
    "df_input_Tweet = pd.read_sql_query('SELECT * FROM clean_Tweet', conn)\n",
    "df_input_Tweet"
   ]
  },
  {
   "cell_type": "code",
   "execution_count": null,
   "id": "98d2cb5d-83a5-4ded-a99b-a33b1167b7a5",
   "metadata": {},
   "outputs": [],
   "source": []
  },
  {
   "cell_type": "markdown",
   "id": "93a016fb-1e88-4c6c-87b3-144397556d35",
   "metadata": {},
   "source": [
    "sorces: https://www.youtube.com/watch?v=tPxUSWTvZAs&t=421s\n",
    "\n",
    "https://www.youtube.com/watch?v=tPxUSWTvZAs&t=421s\n",
    "\n",
    "https://mungingdata.com/sqlite/create-database-load-csv-python/"
   ]
  },
  {
   "cell_type": "markdown",
   "id": "bf71a1a2-bba3-48fe-8597-d480fcc402c9",
   "metadata": {},
   "source": [
    "multiple file: https://www.geeksforgeeks.org/how-to-upload-file-in-python-flask/\n",
    "\n",
    "single file = https://blog.miguelgrinberg.com/post/handling-file-uploads-with-flask\n",
    "\n",
    "https://flask.palletsprojects.com/en/2.3.x/patterns/fileuploads/"
   ]
  }
 ],
 "metadata": {
  "kernelspec": {
   "display_name": "Python 3 (ipykernel)",
   "language": "python",
   "name": "python3"
  },
  "language_info": {
   "codemirror_mode": {
    "name": "ipython",
    "version": 3
   },
   "file_extension": ".py",
   "mimetype": "text/x-python",
   "name": "python",
   "nbconvert_exporter": "python",
   "pygments_lexer": "ipython3",
   "version": "3.11.6"
  }
 },
 "nbformat": 4,
 "nbformat_minor": 5
}
