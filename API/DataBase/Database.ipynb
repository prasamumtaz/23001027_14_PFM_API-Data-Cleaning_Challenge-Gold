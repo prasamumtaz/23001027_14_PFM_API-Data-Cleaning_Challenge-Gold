{
 "cells": [
  {
   "cell_type": "markdown",
   "id": "9d928c86-6a46-4655-a92e-126e0cc244ab",
   "metadata": {},
   "source": [
    "# Directory"
   ]
  },
  {
   "cell_type": "code",
   "execution_count": 35,
   "id": "d790536e-e559-42f4-87a5-8dbb4ba11965",
   "metadata": {},
   "outputs": [
    {
     "data": {
      "text/plain": [
       "'E:\\\\BINAR\\\\Binar-Gold-Challenge\\\\API\\\\DataBase'"
      ]
     },
     "execution_count": 35,
     "metadata": {},
     "output_type": "execute_result"
    }
   ],
   "source": [
    "pwd"
   ]
  },
  {
   "cell_type": "code",
   "execution_count": 1,
   "id": "39fed40d-32d1-4772-af3b-316da6a19ebf",
   "metadata": {},
   "outputs": [],
   "source": [
    "import sqlite3"
   ]
  },
  {
   "cell_type": "markdown",
   "id": "7d95b249-1520-4c67-952d-03e6974be2e2",
   "metadata": {},
   "source": [
    "# Connect to database"
   ]
  },
  {
   "cell_type": "code",
   "execution_count": 2,
   "id": "842fb5b5-9e10-4c67-8d29-70419ad60a66",
   "metadata": {},
   "outputs": [
    {
     "name": "stdout",
     "output_type": "stream",
     "text": [
      "Opened database successfully\n"
     ]
    }
   ],
   "source": [
    "conn = sqlite3.connect(\"Database_processing.db\")\n",
    "print(\"Opened database successfully\")"
   ]
  },
  {
   "cell_type": "markdown",
   "id": "49bbc99e-7979-436e-95a8-dbb04d1ece33",
   "metadata": {},
   "source": [
    "# Create Table"
   ]
  },
  {
   "cell_type": "markdown",
   "id": "15c6a3aa-99c8-4963-90d3-c26ac0646bfd",
   "metadata": {},
   "source": [
    "## input_text Table"
   ]
  },
  {
   "cell_type": "code",
   "execution_count": 3,
   "id": "f7a1fc41-7f88-49c6-bd9b-1faa682fdab3",
   "metadata": {},
   "outputs": [
    {
     "name": "stdout",
     "output_type": "stream",
     "text": [
      "Table created successfully\n"
     ]
    }
   ],
   "source": [
    "conn.execute( '''\n",
    "    CREATE TABLE input_text (\n",
    "        text VARCHAR(300)\n",
    "        );\n",
    "    ''')\n",
    "\n",
    "print(\"Table created successfully\")"
   ]
  },
  {
   "cell_type": "code",
   "execution_count": 4,
   "id": "90ea8877-9ba7-4b1f-b3a1-23f6305929eb",
   "metadata": {},
   "outputs": [
    {
     "name": "stdout",
     "output_type": "stream",
     "text": [
      "Table created successfully\n"
     ]
    }
   ],
   "source": [
    "conn.execute( '''\n",
    "    CREATE TABLE output_text (\n",
    "        text VARCHAR(300)\n",
    "        );\n",
    "    ''')\n",
    "\n",
    "print(\"Table created successfully\")"
   ]
  },
  {
   "cell_type": "code",
   "execution_count": 5,
   "id": "eaacde5a-2d84-41f6-ad4d-b47603199e3a",
   "metadata": {},
   "outputs": [
    {
     "name": "stdout",
     "output_type": "stream",
     "text": [
      "Table created successfully\n"
     ]
    }
   ],
   "source": [
    "conn.execute( '''\n",
    "    CREATE TABLE input_Tweet (\n",
    "        Tweet VARCHAR(300)\n",
    "        );\n",
    "    ''')\n",
    "\n",
    "print(\"Table created successfully\")"
   ]
  },
  {
   "cell_type": "code",
   "execution_count": 6,
   "id": "6137ef77-4c9a-49ff-8975-b19dfce67911",
   "metadata": {},
   "outputs": [
    {
     "name": "stdout",
     "output_type": "stream",
     "text": [
      "Table created successfully\n"
     ]
    }
   ],
   "source": [
    "conn.execute( '''\n",
    "    CREATE TABLE clean_Tweet (\n",
    "        Tweet VARCHAR(300)\n",
    "        );\n",
    "    ''')\n",
    "\n",
    "print(\"Table created successfully\")"
   ]
  },
  {
   "cell_type": "code",
   "execution_count": 38,
   "id": "5f1fa03f-5265-47e3-a732-a479a46833a2",
   "metadata": {},
   "outputs": [],
   "source": [
    "conn.close()"
   ]
  },
  {
   "cell_type": "markdown",
   "id": "b5f7d255",
   "metadata": {},
   "source": [
    "# Delate All row"
   ]
  },
  {
   "cell_type": "code",
   "execution_count": 39,
   "id": "3dc17e3b",
   "metadata": {},
   "outputs": [],
   "source": [
    "import sqlite3"
   ]
  },
  {
   "cell_type": "code",
   "execution_count": 23,
   "id": "1e497150",
   "metadata": {},
   "outputs": [],
   "source": [
    "conn = sqlite3.connect(\"Database_processing.db\")\n",
    "cursor = conn.cursor()"
   ]
  },
  {
   "cell_type": "code",
   "execution_count": 24,
   "id": "6bf5e65e-56b5-4e65-8752-8ccfca013ee9",
   "metadata": {},
   "outputs": [
    {
     "data": {
      "text/plain": [
       "<sqlite3.Cursor at 0x1acec240b40>"
      ]
     },
     "execution_count": 24,
     "metadata": {},
     "output_type": "execute_result"
    }
   ],
   "source": [
    "cursor.execute('DELETE FROM input_text;',)\n",
    "#print('We have deleted', cursor.rowcount, 'records from the table.')"
   ]
  },
  {
   "cell_type": "code",
   "execution_count": 25,
   "id": "ece093de-835a-4978-82e2-7e9306629fa9",
   "metadata": {},
   "outputs": [
    {
     "data": {
      "text/plain": [
       "<sqlite3.Cursor at 0x1acec240b40>"
      ]
     },
     "execution_count": 25,
     "metadata": {},
     "output_type": "execute_result"
    }
   ],
   "source": [
    "cursor.execute('DELETE FROM output_text;',)\n",
    "#print('We have deleted', cursor.rowcount, 'records from the table.')"
   ]
  },
  {
   "cell_type": "code",
   "execution_count": 26,
   "id": "0fbb19e4",
   "metadata": {},
   "outputs": [
    {
     "data": {
      "text/plain": [
       "<sqlite3.Cursor at 0x1acec240b40>"
      ]
     },
     "execution_count": 26,
     "metadata": {},
     "output_type": "execute_result"
    }
   ],
   "source": [
    "cursor.execute('DELETE FROM input_Tweet;',)\n",
    "#print('We have deleted', cursor.rowcount, 'records from the table.')"
   ]
  },
  {
   "cell_type": "code",
   "execution_count": 27,
   "id": "672136d0-f024-423e-bbdd-e8aa66fb2f4c",
   "metadata": {},
   "outputs": [
    {
     "data": {
      "text/plain": [
       "<sqlite3.Cursor at 0x1acec240b40>"
      ]
     },
     "execution_count": 27,
     "metadata": {},
     "output_type": "execute_result"
    }
   ],
   "source": [
    "cursor.execute('DELETE FROM clean_Tweet;',)\n",
    "#print('We have deleted', cursor.rowcount, 'records from the table.')"
   ]
  },
  {
   "cell_type": "code",
   "execution_count": 28,
   "metadata": {},
   "outputs": [],
   "source": [
    "#commit all query\n",
    "conn.commit()"
   ]
  },
  {
   "cell_type": "code",
   "execution_count": 12,
   "id": "6f121854-f1b0-48cd-9fd9-3250e7a39ec2",
   "metadata": {},
   "outputs": [],
   "source": [
    "conn.close()"
   ]
  },
  {
   "cell_type": "markdown",
   "id": "c820315a-892b-450b-b367-112910a58434",
   "metadata": {},
   "source": [
    "# SHOW VALUES in TABLES"
   ]
  },
  {
   "cell_type": "code",
   "execution_count": 35,
   "id": "bd85ba69-4e30-4114-a397-478943d41eab",
   "metadata": {},
   "outputs": [],
   "source": [
    "import pandas as pd\n",
    "import sqlite3"
   ]
  },
  {
   "cell_type": "code",
   "execution_count": 42,
   "id": "8c9d652e-b24d-4c85-b227-f1a2a29dff5a",
   "metadata": {},
   "outputs": [],
   "source": [
    "conn = sqlite3.connect(\"Database_processing.db\")"
   ]
  },
  {
   "cell_type": "markdown",
   "id": "720176c7-4478-497f-bc3e-8cbb2531e756",
   "metadata": {},
   "source": [
    "### Table input_text "
   ]
  },
  {
   "cell_type": "code",
   "execution_count": 43,
   "id": "1a0eed66-9186-4658-9e3d-b2d06cb63fd2",
   "metadata": {},
   "outputs": [
    {
     "data": {
      "text/html": [
       "<div>\n",
       "<style scoped>\n",
       "    .dataframe tbody tr th:only-of-type {\n",
       "        vertical-align: middle;\n",
       "    }\n",
       "\n",
       "    .dataframe tbody tr th {\n",
       "        vertical-align: top;\n",
       "    }\n",
       "\n",
       "    .dataframe thead th {\n",
       "        text-align: right;\n",
       "    }\n",
       "</style>\n",
       "<table border=\"1\" class=\"dataframe\">\n",
       "  <thead>\n",
       "    <tr style=\"text-align: right;\">\n",
       "      <th></th>\n",
       "      <th>text</th>\n",
       "    </tr>\n",
       "  </thead>\n",
       "  <tbody>\n",
       "  </tbody>\n",
       "</table>\n",
       "</div>"
      ],
      "text/plain": [
       "Empty DataFrame\n",
       "Columns: [text]\n",
       "Index: []"
      ]
     },
     "execution_count": 43,
     "metadata": {},
     "output_type": "execute_result"
    }
   ],
   "source": [
    "df_input_text = pd.read_sql_query('SELECT * FROM input_text', conn)\n",
    "df_input_text"
   ]
  },
  {
   "cell_type": "markdown",
   "id": "79384116-4bdd-42e9-b810-9f8b6c0184e9",
   "metadata": {},
   "source": [
    "### Table output_text"
   ]
  },
  {
   "cell_type": "code",
   "execution_count": 44,
   "id": "4b742ca7-b1be-49ef-8d1a-273e93336649",
   "metadata": {},
   "outputs": [
    {
     "data": {
      "text/html": [
       "<div>\n",
       "<style scoped>\n",
       "    .dataframe tbody tr th:only-of-type {\n",
       "        vertical-align: middle;\n",
       "    }\n",
       "\n",
       "    .dataframe tbody tr th {\n",
       "        vertical-align: top;\n",
       "    }\n",
       "\n",
       "    .dataframe thead th {\n",
       "        text-align: right;\n",
       "    }\n",
       "</style>\n",
       "<table border=\"1\" class=\"dataframe\">\n",
       "  <thead>\n",
       "    <tr style=\"text-align: right;\">\n",
       "      <th></th>\n",
       "      <th>text</th>\n",
       "    </tr>\n",
       "  </thead>\n",
       "  <tbody>\n",
       "  </tbody>\n",
       "</table>\n",
       "</div>"
      ],
      "text/plain": [
       "Empty DataFrame\n",
       "Columns: [text]\n",
       "Index: []"
      ]
     },
     "execution_count": 44,
     "metadata": {},
     "output_type": "execute_result"
    }
   ],
   "source": [
    "df_output_text = pd.read_sql_query('SELECT * FROM output_text', conn)\n",
    "df_output_text"
   ]
  },
  {
   "cell_type": "markdown",
   "id": "3a2053a9-a1f4-466c-bbd1-b842afc2cef7",
   "metadata": {},
   "source": [
    "### Table input_tweet"
   ]
  },
  {
   "cell_type": "code",
   "execution_count": 45,
   "id": "783b4a76-8c5c-429c-bc1b-1073f46a45e6",
   "metadata": {},
   "outputs": [
    {
     "data": {
      "text/html": [
       "<div>\n",
       "<style scoped>\n",
       "    .dataframe tbody tr th:only-of-type {\n",
       "        vertical-align: middle;\n",
       "    }\n",
       "\n",
       "    .dataframe tbody tr th {\n",
       "        vertical-align: top;\n",
       "    }\n",
       "\n",
       "    .dataframe thead th {\n",
       "        text-align: right;\n",
       "    }\n",
       "</style>\n",
       "<table border=\"1\" class=\"dataframe\">\n",
       "  <thead>\n",
       "    <tr style=\"text-align: right;\">\n",
       "      <th></th>\n",
       "      <th>Tweet</th>\n",
       "    </tr>\n",
       "  </thead>\n",
       "  <tbody>\n",
       "  </tbody>\n",
       "</table>\n",
       "</div>"
      ],
      "text/plain": [
       "Empty DataFrame\n",
       "Columns: [Tweet]\n",
       "Index: []"
      ]
     },
     "execution_count": 45,
     "metadata": {},
     "output_type": "execute_result"
    }
   ],
   "source": [
    "df_input_Tweet = pd.read_sql_query('SELECT * FROM input_Tweet', conn)\n",
    "df_input_Tweet"
   ]
  },
  {
   "cell_type": "markdown",
   "id": "9c22e5f7-b537-4a6c-bfd5-acf5a2ba7e41",
   "metadata": {},
   "source": [
    "### Table clean_Tweet"
   ]
  },
  {
   "cell_type": "code",
   "execution_count": 46,
   "id": "fd068365-feab-4422-99df-9591f662b5d8",
   "metadata": {},
   "outputs": [
    {
     "data": {
      "text/html": [
       "<div>\n",
       "<style scoped>\n",
       "    .dataframe tbody tr th:only-of-type {\n",
       "        vertical-align: middle;\n",
       "    }\n",
       "\n",
       "    .dataframe tbody tr th {\n",
       "        vertical-align: top;\n",
       "    }\n",
       "\n",
       "    .dataframe thead th {\n",
       "        text-align: right;\n",
       "    }\n",
       "</style>\n",
       "<table border=\"1\" class=\"dataframe\">\n",
       "  <thead>\n",
       "    <tr style=\"text-align: right;\">\n",
       "      <th></th>\n",
       "      <th>Tweet</th>\n",
       "    </tr>\n",
       "  </thead>\n",
       "  <tbody>\n",
       "  </tbody>\n",
       "</table>\n",
       "</div>"
      ],
      "text/plain": [
       "Empty DataFrame\n",
       "Columns: [Tweet]\n",
       "Index: []"
      ]
     },
     "execution_count": 46,
     "metadata": {},
     "output_type": "execute_result"
    }
   ],
   "source": [
    "df_output_Tweet = pd.read_sql_query('SELECT * FROM clean_Tweet', conn)\n",
    "df_output_Tweet"
   ]
  },
  {
   "cell_type": "code",
   "execution_count": 41,
   "metadata": {},
   "outputs": [],
   "source": [
    "conn.close()"
   ]
  }
 ],
 "metadata": {
  "kernelspec": {
   "display_name": "Python 3 (ipykernel)",
   "language": "python",
   "name": "python3"
  },
  "language_info": {
   "codemirror_mode": {
    "name": "ipython",
    "version": 3
   },
   "file_extension": ".py",
   "mimetype": "text/x-python",
   "name": "python",
   "nbconvert_exporter": "python",
   "pygments_lexer": "ipython3",
   "version": "3.11.6"
  }
 },
 "nbformat": 4,
 "nbformat_minor": 5
}
